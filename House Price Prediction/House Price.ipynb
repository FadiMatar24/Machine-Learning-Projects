{
 "cells": [
  {
   "cell_type": "code",
   "execution_count": null,
   "id": "94eb1693-27df-4eee-9713-41b8059d4e8d",
   "metadata": {},
   "outputs": [],
   "source": []
  }
 ],
 "metadata": {
  "kernelspec": {
   "display_name": "",
   "name": ""
  },
  "language_info": {
   "name": ""
  }
 },
 "nbformat": 4,
 "nbformat_minor": 5
}
